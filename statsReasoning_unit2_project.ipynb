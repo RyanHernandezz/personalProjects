{
 "cells": [
  {
   "cell_type": "markdown",
   "metadata": {},
   "source": [
    "This notebook is in order to clean and analyze the data we got for a project in our statistics class. Our project uses the data from a survey we gave to everyone in our class asking what brand of shoes they prefer. We had to clean this data due to multiple responses from the same people. Then we got national data on where people buy shoes from https://footwearnews.com/2018/business/trends/shoe-brands-teens-nike-vans-adidas-athleisure-streetwear-1202548339/ . We also have to reformat and clean this data to represent what pair of shoes people are wearing in order to compare it with our survey data.\n"
   ]
  },
  {
   "cell_type": "markdown",
   "metadata": {},
   "source": [
    "first I'm going to load our survey data in order to clean it"
   ]
  },
  {
   "cell_type": "code",
   "execution_count": 23,
   "metadata": {},
   "outputs": [
    {
     "data": {
      "text/html": [
       "<div>\n",
       "<style scoped>\n",
       "    .dataframe tbody tr th:only-of-type {\n",
       "        vertical-align: middle;\n",
       "    }\n",
       "\n",
       "    .dataframe tbody tr th {\n",
       "        vertical-align: top;\n",
       "    }\n",
       "\n",
       "    .dataframe thead th {\n",
       "        text-align: right;\n",
       "    }\n",
       "</style>\n",
       "<table border=\"1\" class=\"dataframe\">\n",
       "  <thead>\n",
       "    <tr style=\"text-align: right;\">\n",
       "      <th></th>\n",
       "      <th>Timestamp</th>\n",
       "      <th>Email Address</th>\n",
       "      <th>What brand of shoes do you wear?</th>\n",
       "    </tr>\n",
       "  </thead>\n",
       "  <tbody>\n",
       "    <tr>\n",
       "      <th>0</th>\n",
       "      <td>9/8/2021 12:51:35</td>\n",
       "      <td>samanthai2193@mytusd.org</td>\n",
       "      <td>Nike</td>\n",
       "    </tr>\n",
       "    <tr>\n",
       "      <th>1</th>\n",
       "      <td>9/8/2021 12:52:50</td>\n",
       "      <td>cadens4924@mytusd.org</td>\n",
       "      <td>Vans</td>\n",
       "    </tr>\n",
       "    <tr>\n",
       "      <th>2</th>\n",
       "      <td>9/8/2021 12:53:05</td>\n",
       "      <td>jacks1894@mytusd.org</td>\n",
       "      <td>Vans</td>\n",
       "    </tr>\n",
       "    <tr>\n",
       "      <th>3</th>\n",
       "      <td>9/8/2021 12:53:08</td>\n",
       "      <td>asaela2031@mytusd.org</td>\n",
       "      <td>Converse</td>\n",
       "    </tr>\n",
       "    <tr>\n",
       "      <th>4</th>\n",
       "      <td>9/8/2021 12:53:10</td>\n",
       "      <td>keyannat5319@mytusd.org</td>\n",
       "      <td>Nike</td>\n",
       "    </tr>\n",
       "  </tbody>\n",
       "</table>\n",
       "</div>"
      ],
      "text/plain": [
       "           Timestamp             Email Address  \\\n",
       "0  9/8/2021 12:51:35  samanthai2193@mytusd.org   \n",
       "1  9/8/2021 12:52:50     cadens4924@mytusd.org   \n",
       "2  9/8/2021 12:53:05      jacks1894@mytusd.org   \n",
       "3  9/8/2021 12:53:08     asaela2031@mytusd.org   \n",
       "4  9/8/2021 12:53:10   keyannat5319@mytusd.org   \n",
       "\n",
       "  What brand of shoes do you wear?  \n",
       "0                             Nike  \n",
       "1                             Vans  \n",
       "2                             Vans  \n",
       "3                         Converse  \n",
       "4                             Nike  "
      ]
     },
     "execution_count": 23,
     "metadata": {},
     "output_type": "execute_result"
    }
   ],
   "source": [
    "import pandas as pd\n",
    "surveydata = pd.read_csv('survey_data')\n",
    "surveydata.head()"
   ]
  },
  {
   "cell_type": "markdown",
   "metadata": {},
   "source": [
    "Then I'm going to drop the timestamp column as that isn't relevant to what we want to know."
   ]
  },
  {
   "cell_type": "code",
   "execution_count": 24,
   "metadata": {},
   "outputs": [
    {
     "data": {
      "text/html": [
       "<div>\n",
       "<style scoped>\n",
       "    .dataframe tbody tr th:only-of-type {\n",
       "        vertical-align: middle;\n",
       "    }\n",
       "\n",
       "    .dataframe tbody tr th {\n",
       "        vertical-align: top;\n",
       "    }\n",
       "\n",
       "    .dataframe thead th {\n",
       "        text-align: right;\n",
       "    }\n",
       "</style>\n",
       "<table border=\"1\" class=\"dataframe\">\n",
       "  <thead>\n",
       "    <tr style=\"text-align: right;\">\n",
       "      <th></th>\n",
       "      <th>Email Address</th>\n",
       "      <th>What brand of shoes do you wear?</th>\n",
       "    </tr>\n",
       "  </thead>\n",
       "  <tbody>\n",
       "    <tr>\n",
       "      <th>0</th>\n",
       "      <td>samanthai2193@mytusd.org</td>\n",
       "      <td>Nike</td>\n",
       "    </tr>\n",
       "    <tr>\n",
       "      <th>1</th>\n",
       "      <td>cadens4924@mytusd.org</td>\n",
       "      <td>Vans</td>\n",
       "    </tr>\n",
       "    <tr>\n",
       "      <th>2</th>\n",
       "      <td>jacks1894@mytusd.org</td>\n",
       "      <td>Vans</td>\n",
       "    </tr>\n",
       "    <tr>\n",
       "      <th>3</th>\n",
       "      <td>asaela2031@mytusd.org</td>\n",
       "      <td>Converse</td>\n",
       "    </tr>\n",
       "    <tr>\n",
       "      <th>4</th>\n",
       "      <td>keyannat5319@mytusd.org</td>\n",
       "      <td>Nike</td>\n",
       "    </tr>\n",
       "  </tbody>\n",
       "</table>\n",
       "</div>"
      ],
      "text/plain": [
       "              Email Address What brand of shoes do you wear?\n",
       "0  samanthai2193@mytusd.org                             Nike\n",
       "1     cadens4924@mytusd.org                             Vans\n",
       "2      jacks1894@mytusd.org                             Vans\n",
       "3     asaela2031@mytusd.org                         Converse\n",
       "4   keyannat5319@mytusd.org                             Nike"
      ]
     },
     "execution_count": 24,
     "metadata": {},
     "output_type": "execute_result"
    }
   ],
   "source": [
    "surveydata = surveydata.drop(['Timestamp'], axis=1)\n",
    "surveydata.head()"
   ]
  },
  {
   "cell_type": "markdown",
   "metadata": {},
   "source": [
    "then I'm going to drop the completely duplicate responses"
   ]
  },
  {
   "cell_type": "code",
   "execution_count": 28,
   "metadata": {},
   "outputs": [
    {
     "data": {
      "text/html": [
       "<div>\n",
       "<style scoped>\n",
       "    .dataframe tbody tr th:only-of-type {\n",
       "        vertical-align: middle;\n",
       "    }\n",
       "\n",
       "    .dataframe tbody tr th {\n",
       "        vertical-align: top;\n",
       "    }\n",
       "\n",
       "    .dataframe thead th {\n",
       "        text-align: right;\n",
       "    }\n",
       "</style>\n",
       "<table border=\"1\" class=\"dataframe\">\n",
       "  <thead>\n",
       "    <tr style=\"text-align: right;\">\n",
       "      <th></th>\n",
       "      <th>Email Address</th>\n",
       "      <th>What brand of shoes do you wear?</th>\n",
       "    </tr>\n",
       "  </thead>\n",
       "  <tbody>\n",
       "    <tr>\n",
       "      <th>31</th>\n",
       "      <td>piercej6041@mytusd.org</td>\n",
       "      <td>Converse</td>\n",
       "    </tr>\n",
       "    <tr>\n",
       "      <th>32</th>\n",
       "      <td>damianw3589@mytusd.org</td>\n",
       "      <td>Converse</td>\n",
       "    </tr>\n",
       "    <tr>\n",
       "      <th>33</th>\n",
       "      <td>damianw3589@mytusd.org</td>\n",
       "      <td>Nike</td>\n",
       "    </tr>\n",
       "    <tr>\n",
       "      <th>36</th>\n",
       "      <td>brookeh2080@mytusd.org</td>\n",
       "      <td>Vans</td>\n",
       "    </tr>\n",
       "    <tr>\n",
       "      <th>37</th>\n",
       "      <td>christophery4346@mytusd.org</td>\n",
       "      <td>K2</td>\n",
       "    </tr>\n",
       "    <tr>\n",
       "      <th>39</th>\n",
       "      <td>hadya4394@mytusd.org</td>\n",
       "      <td>Nike</td>\n",
       "    </tr>\n",
       "    <tr>\n",
       "      <th>40</th>\n",
       "      <td>jrichardson@mytusd.org</td>\n",
       "      <td>Vans</td>\n",
       "    </tr>\n",
       "  </tbody>\n",
       "</table>\n",
       "</div>"
      ],
      "text/plain": [
       "                  Email Address What brand of shoes do you wear?\n",
       "31       piercej6041@mytusd.org                         Converse\n",
       "32       damianw3589@mytusd.org                         Converse\n",
       "33       damianw3589@mytusd.org                             Nike\n",
       "36       brookeh2080@mytusd.org                             Vans\n",
       "37  christophery4346@mytusd.org                               K2\n",
       "39         hadya4394@mytusd.org                             Nike\n",
       "40       jrichardson@mytusd.org                             Vans"
      ]
     },
     "execution_count": 28,
     "metadata": {},
     "output_type": "execute_result"
    }
   ],
   "source": [
    "surveydata = surveydata.drop_duplicates()\n",
    "surveydata.tail(7)"
   ]
  },
  {
   "cell_type": "markdown",
   "metadata": {},
   "source": [
    "Then I finally counted the values of what shoes people in our period prefer"
   ]
  },
  {
   "cell_type": "code",
   "execution_count": 45,
   "metadata": {},
   "outputs": [
    {
     "data": {
      "text/plain": [
       "What brand of shoes do you wear?\n",
       "Nike                                11\n",
       "Vans                                10\n",
       "Converse                             8\n",
       "Adidas                               1\n",
       "K2                                   1\n",
       "dtype: int64"
      ]
     },
     "execution_count": 45,
     "metadata": {},
     "output_type": "execute_result"
    }
   ],
   "source": [
    "shoedata = surveydata.drop(['Email Address'], axis=1)\n",
    "shoedata.value_counts()"
   ]
  },
  {
   "cell_type": "markdown",
   "metadata": {},
   "source": [
    "then I made a waffle chart to visualize the survey data"
   ]
  },
  {
   "cell_type": "code",
   "execution_count": 38,
   "metadata": {},
   "outputs": [
    {
     "name": "stdout",
     "output_type": "stream",
     "text": [
      "Requirement already satisfied: pywaffle in m:\\anaconda3\\lib\\site-packages (0.6.3)\n",
      "Requirement already satisfied: matplotlib in m:\\anaconda3\\lib\\site-packages (from pywaffle) (3.3.4)\n",
      "Requirement already satisfied: kiwisolver>=1.0.1 in m:\\anaconda3\\lib\\site-packages (from matplotlib->pywaffle) (1.3.1)\n",
      "Requirement already satisfied: pyparsing!=2.0.4,!=2.1.2,!=2.1.6,>=2.0.3 in m:\\anaconda3\\lib\\site-packages (from matplotlib->pywaffle) (2.4.7)\n",
      "Requirement already satisfied: pillow>=6.2.0 in m:\\anaconda3\\lib\\site-packages (from matplotlib->pywaffle) (8.2.0)\n",
      "Requirement already satisfied: numpy>=1.15 in m:\\anaconda3\\lib\\site-packages (from matplotlib->pywaffle) (1.20.1)\n",
      "Requirement already satisfied: python-dateutil>=2.1 in m:\\anaconda3\\lib\\site-packages (from matplotlib->pywaffle) (2.8.1)\n",
      "Requirement already satisfied: cycler>=0.10 in m:\\anaconda3\\lib\\site-packages (from matplotlib->pywaffle) (0.10.0)\n",
      "Requirement already satisfied: six in m:\\anaconda3\\lib\\site-packages (from cycler>=0.10->matplotlib->pywaffle) (1.15.0)\n"
     ]
    },
    {
     "data": {
      "image/png": "[encoded data removed]",
      "text/plain": [
       "<Waffle size 432x288 with 1 Axes>"
      ]
     },
     "metadata": {
      "needs_background": "light"
     },
     "output_type": "display_data"
    }
   ],
   "source": [
    "import matplotlib.pyplot as plt\n",
    "import sys\n",
    "!{sys.executable} -m pip install pywaffle\n",
    "from pywaffle import Waffle\n",
    "\n",
    "\n",
    "chartdata = {'Nike': 11, 'Vans': 10, 'Converse': 8, 'Adidas': 1, 'Other': 1}\n",
    "fig = plt.figure(\n",
    "    FigureClass=Waffle, \n",
    "    rows=5, \n",
    "    values=chartdata, \n",
    "    legend={'loc': 'upper left', 'bbox_to_anchor': (1.1, 1)}\n",
    ")\n",
    "plt.show()"
   ]
  },
  {
   "cell_type": "markdown",
   "metadata": {},
   "source": [
    "then I calculated the percentages of the shoe data to compare it with our national data"
   ]
  },
  {
   "cell_type": "code",
   "execution_count": 52,
   "metadata": {},
   "outputs": [
    {
     "data": {
      "text/html": [
       "<div>\n",
       "<style scoped>\n",
       "    .dataframe tbody tr th:only-of-type {\n",
       "        vertical-align: middle;\n",
       "    }\n",
       "\n",
       "    .dataframe tbody tr th {\n",
       "        vertical-align: top;\n",
       "    }\n",
       "\n",
       "    .dataframe thead th {\n",
       "        text-align: right;\n",
       "    }\n",
       "</style>\n",
       "<table border=\"1\" class=\"dataframe\">\n",
       "  <thead>\n",
       "    <tr style=\"text-align: right;\">\n",
       "      <th></th>\n",
       "      <th>responses</th>\n",
       "      <th>percentage</th>\n",
       "    </tr>\n",
       "  </thead>\n",
       "  <tbody>\n",
       "    <tr>\n",
       "      <th>Nike</th>\n",
       "      <td>11</td>\n",
       "      <td>0.354839</td>\n",
       "    </tr>\n",
       "    <tr>\n",
       "      <th>Vans</th>\n",
       "      <td>10</td>\n",
       "      <td>0.322581</td>\n",
       "    </tr>\n",
       "    <tr>\n",
       "      <th>Converse</th>\n",
       "      <td>8</td>\n",
       "      <td>0.258065</td>\n",
       "    </tr>\n",
       "    <tr>\n",
       "      <th>Adidas</th>\n",
       "      <td>1</td>\n",
       "      <td>0.032258</td>\n",
       "    </tr>\n",
       "    <tr>\n",
       "      <th>Other</th>\n",
       "      <td>1</td>\n",
       "      <td>0.032258</td>\n",
       "    </tr>\n",
       "  </tbody>\n",
       "</table>\n",
       "</div>"
      ],
      "text/plain": [
       "          responses  percentage\n",
       "Nike             11    0.354839\n",
       "Vans             10    0.322581\n",
       "Converse          8    0.258065\n",
       "Adidas            1    0.032258\n",
       "Other             1    0.032258"
      ]
     },
     "execution_count": 52,
     "metadata": {},
     "output_type": "execute_result"
    }
   ],
   "source": [
    "percentages = pd.DataFrame([chartdata])\n",
    "percentages = percentages.T\n",
    "percentages.columns=['responses']\n",
    "percentages['percentage'] = percentages['responses']/31\n",
    "percentages"
   ]
  },
  {
   "cell_type": "markdown",
   "metadata": {},
   "source": [
    "Next I have to reformat the data from the national data (https://footwearnews.com/2018/business/trends/shoe-brands-teens-nike-vans-adidas-athleisure-streetwear-1202548339/) in order to compare it to our survey data."
   ]
  },
  {
   "cell_type": "markdown",
   "metadata": {},
   "source": [
    "I took the Top Footwear brands among upper income table and removed footlocker, nordstrom and DSW from the list since they are retailers who sell a variety of shoes brands. Then I lumped everything other than Nike, Vans, Converse, and Adidas into the other group to match out survey. Finally I recalculated the percentages based off this criteria to compare our survey data to."
   ]
  },
  {
   "cell_type": "code",
   "execution_count": 55,
   "metadata": {},
   "outputs": [
    {
     "data": {
      "text/plain": [
       "87"
      ]
     },
     "execution_count": 55,
     "metadata": {},
     "output_type": "execute_result"
    }
   ],
   "source": [
    "42+16+14+4+3+3+2+1+1+1"
   ]
  },
  {
   "cell_type": "markdown",
   "metadata": {},
   "source": [
    "there is already an implied 13% other group from the table that isn't explicity shown"
   ]
  },
  {
   "cell_type": "markdown",
   "metadata": {},
   "source": [
    "I lumped steve madden, new balance, and sperry into the other group adding their percentages"
   ]
  },
  {
   "cell_type": "code",
   "execution_count": 56,
   "metadata": {},
   "outputs": [
    {
     "data": {
      "text/plain": [
       "18"
      ]
     },
     "execution_count": 56,
     "metadata": {},
     "output_type": "execute_result"
    }
   ],
   "source": [
    "13+1+1+3"
   ]
  },
  {
   "cell_type": "markdown",
   "metadata": {},
   "source": [
    "finally the percentages are 42% nike, 16% vans, 14% adidas, 4% converse, and 18% other before redistributing the percentages allocated to general retailers"
   ]
  },
  {
   "cell_type": "code",
   "execution_count": 57,
   "metadata": {},
   "outputs": [
    {
     "data": {
      "text/plain": [
       "94"
      ]
     },
     "execution_count": 57,
     "metadata": {},
     "output_type": "execute_result"
    }
   ],
   "source": [
    "42+16+14+4+18"
   ]
  },
  {
   "cell_type": "markdown",
   "metadata": {},
   "source": [
    "The 6% allocated to retailers is redistributed proportionally to the percentages above"
   ]
  },
  {
   "cell_type": "code",
   "execution_count": 81,
   "metadata": {},
   "outputs": [
    {
     "data": {
      "text/plain": [
       "99.99720000000002"
      ]
     },
     "execution_count": 81,
     "metadata": {},
     "output_type": "execute_result"
    }
   ],
   "source": [
    "def normperc(x):\n",
    "    return x*1.0638\n",
    "normperc(42)+normperc(16)+normperc(14)+normperc(4)+normperc(18)"
   ]
  },
  {
   "cell_type": "markdown",
   "metadata": {},
   "source": [
    "now that the national data is normalized all thats left is to show the percentage results in a table"
   ]
  },
  {
   "cell_type": "code",
   "execution_count": 84,
   "metadata": {
    "scrolled": true
   },
   "outputs": [
    {
     "data": {
      "text/html": [
       "<div>\n",
       "<style scoped>\n",
       "    .dataframe tbody tr th:only-of-type {\n",
       "        vertical-align: middle;\n",
       "    }\n",
       "\n",
       "    .dataframe tbody tr th {\n",
       "        vertical-align: top;\n",
       "    }\n",
       "\n",
       "    .dataframe thead th {\n",
       "        text-align: right;\n",
       "    }\n",
       "</style>\n",
       "<table border=\"1\" class=\"dataframe\">\n",
       "  <thead>\n",
       "    <tr style=\"text-align: right;\">\n",
       "      <th></th>\n",
       "      <th>Nike</th>\n",
       "      <th>Vans</th>\n",
       "      <th>Converse</th>\n",
       "      <th>Adidas</th>\n",
       "      <th>Other</th>\n",
       "    </tr>\n",
       "  </thead>\n",
       "  <tbody>\n",
       "    <tr>\n",
       "      <th>0</th>\n",
       "      <td>44.6796</td>\n",
       "      <td>17.0208</td>\n",
       "      <td>4.2552</td>\n",
       "      <td>14.8932</td>\n",
       "      <td>19.1484</td>\n",
       "    </tr>\n",
       "  </tbody>\n",
       "</table>\n",
       "</div>"
      ],
      "text/plain": [
       "      Nike     Vans  Converse   Adidas    Other\n",
       "0  44.6796  17.0208    4.2552  14.8932  19.1484"
      ]
     },
     "execution_count": 84,
     "metadata": {},
     "output_type": "execute_result"
    }
   ],
   "source": [
    "nationaldata = {'Nike': normperc(42), 'Vans': normperc(16), 'Converse': normperc(4), 'Adidas': normperc(14), 'Other': normperc(18)}\n",
    "nationaldatadf = pd.DataFrame([nationaldata])\n",
    "nationaldatadf"
   ]
  },
  {
   "cell_type": "markdown",
   "metadata": {},
   "source": [
    "and thats how we cleaned our data"
   ]
  }
 ],
 "metadata": {
  "kernelspec": {
   "display_name": "Python 3",
   "language": "python",
   "name": "python3"
  },
  "language_info": {
   "codemirror_mode": {
    "name": "ipython",
    "version": 3
   },
   "file_extension": ".py",
   "mimetype": "text/x-python",
   "name": "python",
   "nbconvert_exporter": "python",
   "pygments_lexer": "ipython3",
   "version": "3.8.8"
  }
 },
 "nbformat": 4,
 "nbformat_minor": 2
}
