{
 "cells": [
  {
   "cell_type": "markdown",
   "id": "f88476b6",
   "metadata": {},
   "source": [
    "Hi\n",
    "I wanted to see if there was statistically significant lowered stock market performance on the first day of the year following a year of gains in the stock market as it might be that for tax reasons investors looking to sell their stocks may wait for the first day of the new tax year. I got the data off https://www.investing.com/ for the S&P 500 and combined the csvs and reduced it to the data and Change % columns in excel before importing it here."
   ]
  },
  {
   "cell_type": "code",
   "execution_count": 165,
   "id": "7c7e81d9",
   "metadata": {},
   "outputs": [],
   "source": [
    "import pandas as pd\n",
    "from scipy.stats import ttest_ind"
   ]
  },
  {
   "cell_type": "code",
   "execution_count": 166,
   "id": "481de0cc",
   "metadata": {},
   "outputs": [],
   "source": [
    "# Reading csv into dataframe\n",
    "daily_df = pd.read_csv('dailystockmarketdata.csv')\n",
    "\n",
    "# converting 'Date' column to datetime\n",
    "daily_df['Date'] = pd.to_datetime(daily_df['Date'])\n",
    "\n",
    "# Group by year and get the row with the minimum date in each year\n",
    "filtered_df = daily_df.groupby(daily_df['Date'].dt.year)['Date'].idxmin()\n",
    "\n",
    "# Filter the original DataFrame based on the indices obtained\n",
    "result_df = daily_df.loc[filtered_df]\n",
    "\n",
    "# needed to get rid of the first entry as the data starts in december of 1979\n",
    "first_day_data = result_df.drop(result_df.index[0])\n"
   ]
  },
  {
   "cell_type": "markdown",
   "id": "d7ff5271",
   "metadata": {},
   "source": [
    "Apparently investing.com has more data available for monthly versus daily which is why I'm importing this other\n",
    "data I downloaded and then cleaned a bit in excel again. I'm trying to figure out which years the s%p 500 saw an increase"
   ]
  },
  {
   "cell_type": "code",
   "execution_count": 167,
   "id": "fa3a4925",
   "metadata": {},
   "outputs": [],
   "source": [
    "# Reading csv into dataframe\n",
    "monthly_df = pd.read_csv('monthlystockmarketdata.csv')\n",
    "\n",
    "# Convert 'Date' column to datetime format\n",
    "monthly_df['Date'] = pd.to_datetime(df['Date'])  # Convert \n",
    "\n",
    "# Create a new column 'Year' with the extracted year\n",
    "monthly_df['Year'] = monthly_df['Date'].dt.year\n",
    "\n",
    "# Calculate the monthly change factors (1 + change)\n",
    "monthly_df['Monthly Change Factor'] = 1 + monthly_df['Change %'] / 100\n",
    "\n",
    "# Group by year and calculate the annual change\n",
    "df_grouped = monthly_df.groupby('Year')['Monthly Change Factor'].prod() - 1\n",
    "df_grouped = df_grouped.reset_index()\n",
    "df_grouped.columns = ['Year', 'Annual Change']\n",
    "\n",
    "# Filter rows where the stock market grew over the year\n",
    "df_grouped_filtered = df_grouped[df_grouped['Annual Change'] > 0]\n"
   ]
  },
  {
   "cell_type": "code",
   "execution_count": 168,
   "id": "397d3a5c",
   "metadata": {},
   "outputs": [],
   "source": [
    "\n",
    "# Convert 'Date' column in first_day_data to string\n",
    "first_day_data['Date'] = first_day_data['Date'].astype(str)\n",
    "\n",
    "# Extract unique year strings from 'Year' column in df_grouped_filtered\n",
    "unique_year_strings = df_grouped_filtered['Year'].astype(str).unique()\n",
    "\n",
    "# Filter data based on the criteria\n",
    "filtered_first_day_data = first_day_data[first_day_data['Date'].str.startswith(tuple(unique_year_strings))]\n"
   ]
  },
  {
   "cell_type": "code",
   "execution_count": 169,
   "id": "00fb4c29",
   "metadata": {},
   "outputs": [],
   "source": [
    "\n",
    "# Merge the DataFrames on the 'Date' column with indicator set to True\n",
    "merged_df = pd.merge(daily_data, filtered_first_day_data, how='outer', indicator=True)\n",
    "\n",
    "# Select rows that are only in daily_data (not in filtered_first_day_data)\n",
    "result_df = merged_df[merged_df['_merge'] == 'left_only']\n",
    "\n",
    "# Drop the indicator column if needed\n",
    "other_days_data = result_df.drop('_merge', axis=1)"
   ]
  },
  {
   "cell_type": "code",
   "execution_count": 178,
   "id": "a323f3fe",
   "metadata": {},
   "outputs": [
    {
     "name": "stdout",
     "output_type": "stream",
     "text": [
      "T-statistic: 0.9898950691463758\n",
      "P-value: 0.3293998408928476\n",
      "There is no statistically significant difference in average performance of the s&p 500 on the first day of the year after a year of growth compared to a normal day.\n"
     ]
    }
   ],
   "source": [
    "from scipy.stats import ttest_ind\n",
    "\n",
    "\n",
    "# Filter data for January 2nd and other dates\n",
    "filtered_first_day_data_returns = filtered_first_day_data['Change %']\n",
    "other_days_data_returns = other_days_data['Change %']\n",
    "\n",
    "# Performing t-test\n",
    "t_stat, p_value = ttest_ind(filtered_first_day_data_returns, other_days_data_returns, equal_var=False)\n",
    "\n",
    "# alpha = 0.05 just to be conservative\n",
    "alpha = 0.05\n",
    "\n",
    "# Print the results\n",
    "print(\"T-statistic:\", t_stat)\n",
    "print(\"P-value:\", p_value)\n",
    "\n",
    "# Check for statistical significance\n",
    "if p_value < alpha:\n",
    "    print(\"The average performance on January 2nd is statistically significant.\")\n",
    "else:\n",
    "    print(\"There is no statistically significant difference in average performance of the s&p 500 on the first day of the year after a year of growth compared to a normal day.\")\n"
   ]
  },
  {
   "cell_type": "markdown",
   "id": "1733f219",
   "metadata": {},
   "source": []
  }
 ],
 "metadata": {
  "kernelspec": {
   "display_name": "Python 3 (ipykernel)",
   "language": "python",
   "name": "python3"
  },
  "language_info": {
   "codemirror_mode": {
    "name": "ipython",
    "version": 3
   },
   "file_extension": ".py",
   "mimetype": "text/x-python",
   "name": "python",
   "nbconvert_exporter": "python",
   "pygments_lexer": "ipython3",
   "version": "3.9.13"
  }
 },
 "nbformat": 4,
 "nbformat_minor": 5
}
